{
 "cells": [
  {
   "cell_type": "markdown",
   "metadata": {
    "id": "WTxpNI-fL-vx"
   },
   "source": [
    "# Como manipular texto no notebook para documentação dos seus códigos\n",
    "\n",
    "Podemos adicionar texto no arquivo notebook usando a célula *Markdown*, mas o que é *Markdown*?\n",
    "\n",
    "*Markdown* é uma linguagem simples de marcação originalmente criada por John Gruber e Aaron Swartz. *Markdown* converte seu texto em HTML válido.\n",
    "\n",
    "fonte: https://pt.wikipedia.org/wiki/Markdown"
   ]
  },
  {
   "cell_type": "markdown",
   "metadata": {
    "id": "tB_XigBlL-vy"
   },
   "source": [
    "# Hello, World!"
   ]
  },
  {
   "cell_type": "markdown",
   "metadata": {
    "id": "AKnqDvyAL-vy"
   },
   "source": [
    "# Heading 1\n",
    "\n",
    "# Heading 2\n",
    "\n",
    "## Heading 2.1\n",
    "\n",
    "## Heading 2.2\n",
    "\n",
    "###### Heading 2.2.1"
   ]
  },
  {
   "cell_type": "markdown",
   "metadata": {
    "id": "N3Lq1KeJL-vy"
   },
   "source": [
    "Deixar o texto em *itálico* ou **negrito**."
   ]
  },
  {
   "cell_type": "markdown",
   "metadata": {
    "id": "YgQgU8cjL-vz"
   },
   "source": [
    "\n",
    "**Podemos criar listas enumeradas ou listas aninhadas:**\n",
    "\n",
    "\n",
    "Lista enumerada:\n",
    "\n",
    "1.   JavaScript\n",
    "2.   Python\n",
    "3.   Java\n",
    "\n",
    "Lista aninhadas:\n",
    "\n",
    "* Alimentos\n",
    "\n",
    "    - Geladeria\n",
    "        - Manteiga\n",
    "        - Requeijão\n",
    "    - Frutas\n",
    "        - Banana\n",
    "        - Maça"
   ]
  },
  {
   "cell_type": "markdown",
   "metadata": {
    "id": "cnwZwQeOL-vz"
   },
   "source": [
    "# Operações Numéricas\n",
    "\n",
    "Os operadores numéricos em python são:\n",
    "\n",
    "'''\n",
    "\n",
    "      *   +  (adição)\n",
    "      *   -  (subtração)\n",
    "      *   *  (multiplicação)\n",
    "      *   /  (divisão)\n",
    "      *   // (divisão inteira)\n",
    "      *   ** (exponencial)\n",
    "      *   %  (modulo)\n",
    "      \n",
    "      \n",
    "'''"
   ]
  },
  {
   "cell_type": "markdown",
   "metadata": {
    "id": "_AQld0z8L-vz"
   },
   "source": [
    "**Comentários nas células**\n",
    "\n",
    "Utilizar o **#** nas células nos dá instruções e lembretes dos nossos códigos, eles ajudam outros usários e nós mesmos de lembrar o que o código está fazendo."
   ]
  },
  {
   "cell_type": "code",
   "execution_count": null,
   "metadata": {
    "id": "FW2EFFBsL-vz",
    "outputId": "3354f401-74eb-49da-9a66-58fcd7075bda"
   },
   "outputs": [],
   "source": [
    "# soma\n",
    "1 + 10"
   ]
  },
  {
   "cell_type": "code",
   "execution_count": null,
   "metadata": {
    "id": "6nX_1AlVL-v0",
    "outputId": "cdb04212-1782-4f81-d2d8-93c3a5d59815"
   },
   "outputs": [],
   "source": [
    "# subtração\n",
    "4 - 10"
   ]
  },
  {
   "cell_type": "code",
   "execution_count": null,
   "metadata": {
    "id": "hXxHP8VwL-v0",
    "outputId": "757dd111-434c-43f3-d6c4-22ecdd3e5d24"
   },
   "outputs": [],
   "source": [
    "# multiplicação\n",
    "2 * 7"
   ]
  },
  {
   "cell_type": "code",
   "execution_count": null,
   "metadata": {
    "id": "H-4Gq5nGL-v0",
    "outputId": "1d7edb98-0432-45a2-ef95-54a08cef8e8e"
   },
   "outputs": [],
   "source": [
    "# divisão\n",
    "15 / 7"
   ]
  },
  {
   "cell_type": "code",
   "execution_count": null,
   "metadata": {
    "id": "ssiMY88gL-v0",
    "outputId": "af5607cb-38b1-4c98-a5c3-b8f0f5e6100a"
   },
   "outputs": [],
   "source": [
    "# divisão inteira\n",
    "15 // 7"
   ]
  },
  {
   "cell_type": "code",
   "execution_count": 1,
   "metadata": {
    "id": "5Xdba3nTL-v1",
    "outputId": "60b8f8ce-66cd-4b63-d549-9491e102ab3b"
   },
   "outputs": [
    {
     "data": {
      "text/plain": [
       "16"
      ]
     },
     "execution_count": 1,
     "metadata": {},
     "output_type": "execute_result"
    }
   ],
   "source": [
    "# exponencial\n",
    "2 ** 4"
   ]
  },
  {
   "cell_type": "code",
   "execution_count": null,
   "metadata": {
    "id": "OSIrCdapL-v1",
    "outputId": "02471987-e0fa-4484-f3f0-3479c78b9dd2"
   },
   "outputs": [],
   "source": [
    "# modulo\n",
    "16 % 3"
   ]
  },
  {
   "cell_type": "code",
   "execution_count": null,
   "metadata": {
    "id": "NB_uPrygL-v1",
    "outputId": "0690ea02-30d0-4acd-e71a-5377d46aebcb"
   },
   "outputs": [],
   "source": [
    "abs(-5)"
   ]
  },
  {
   "cell_type": "code",
   "execution_count": null,
   "metadata": {
    "id": "bVTBYsVOL-v2",
    "outputId": "b6e43f64-9988-48ad-e104-c0001357b5a8"
   },
   "outputs": [],
   "source": [
    "# multiplicação com texto (string)\n",
    "'Deborah ' * 3"
   ]
  },
  {
   "cell_type": "code",
   "execution_count": null,
   "metadata": {
    "id": "qIMN5HR-L-v2",
    "outputId": "a52f355f-178f-43b2-d700-eff20b7ce1e3"
   },
   "outputs": [],
   "source": [
    "# soma com texto (string)\n",
    "'Python ' + 'Python ' + 'Python '"
   ]
  },
  {
   "cell_type": "markdown",
   "metadata": {
    "id": "C0ZG0_8DL-v2"
   },
   "source": [
    "Lembre-se do **PEMDAS**\n",
    "\n",
    "1. Parênteses\n",
    "2. Expoentes\n",
    "3. Multiplicação\n",
    "4. Divisão\n",
    "5. Adição\n",
    "6. Subtração"
   ]
  },
  {
   "cell_type": "code",
   "execution_count": null,
   "metadata": {
    "id": "K-aVw-9JL-v2"
   },
   "outputs": [],
   "source": [
    "a = 4\n",
    "b = 6"
   ]
  },
  {
   "cell_type": "code",
   "execution_count": null,
   "metadata": {
    "id": "VupUZgXIL-v2",
    "outputId": "0a69710e-fc13-4a2c-81ea-93119f604d02"
   },
   "outputs": [],
   "source": [
    "c = (a + b - 2 * a + a ** a) / 5\n",
    "c"
   ]
  },
  {
   "cell_type": "code",
   "execution_count": null,
   "metadata": {
    "id": "k9DQC7M5L-v3",
    "outputId": "dae77234-96d7-4801-bce8-c00017ffbd84"
   },
   "outputs": [],
   "source": [
    "# print (função builtin) é uma função Python que exibe o valor passado a ela na tela.\n",
    "print(c)"
   ]
  },
  {
   "cell_type": "code",
   "execution_count": null,
   "metadata": {
    "id": "3m5c5dHcL-v3",
    "outputId": "c8a15824-3634-47f6-8995-e36bc3f365f3"
   },
   "outputs": [],
   "source": [
    "# mínimo e máximo (função builtin)\n",
    "print(min(-1,2,3))\n",
    "print(max(1,5,3))"
   ]
  },
  {
   "cell_type": "code",
   "execution_count": null,
   "metadata": {
    "id": "e1_P_JzbL-v3",
    "outputId": "c2f20b4f-8063-45a2-f148-fb37a13987ec"
   },
   "outputs": [],
   "source": [
    "min(-1,2,3)"
   ]
  },
  {
   "cell_type": "code",
   "execution_count": null,
   "metadata": {
    "id": "XzAh7hCVL-v3",
    "outputId": "278f7549-f45b-4a46-ec80-943bdc741497"
   },
   "outputs": [],
   "source": [
    "max(1,5,3)"
   ]
  },
  {
   "cell_type": "code",
   "execution_count": null,
   "metadata": {
    "id": "_s7qrXLkL-v3",
    "outputId": "a2b93cfb-da03-4fdd-ca60-c4ebbaf5f84e"
   },
   "outputs": [],
   "source": [
    "# valor absoluto (função builtin)\n",
    "print(abs(42))\n",
    "print(abs(-42))"
   ]
  },
  {
   "cell_type": "markdown",
   "metadata": {
    "id": "PNz-mJd9L-v4"
   },
   "source": [
    "#  Variável\n",
    "\n",
    "Um dos recursos mais poderosos da linguagem de programação é a capacidade de manipular variáveis.\n",
    "\n",
    "Uma variável é um nome que faz referência a um objeto usando o sinal de =.\n",
    "\n",
    "Uma **declaração por atribuição** cria novas variáveis e atribui valores a elas:\n",
    "\n",
    "Os nomes das variáveis podem conter letras e números, mas elas não podem começar com um número.\n",
    "O caractere ( _ ) pode aparecer em um nome, frequentemente usado em nomes com várias palavras, como *meu_nome*.\n",
    "\n",
    "**Regras:**\n",
    "\n",
    "- podem ser usados algarismos, letras ou _\n",
    "- nunca devem começar com um algarismo\n",
    "- não podemos usar palavras-chave naturais ao Python, por exemplo if, while, etc.\n",
    "\n",
    "### **Lista completa de palavras-chave:**"
   ]
  },
  {
   "cell_type": "code",
   "execution_count": 2,
   "metadata": {
    "id": "B6r8Q_L6L-v4",
    "outputId": "9948616f-4ca2-445c-a880-74085f8f687d"
   },
   "outputs": [
    {
     "name": "stdout",
     "output_type": "stream",
     "text": [
      "['False', 'None', 'True', 'and', 'as', 'assert', 'async', 'await', 'break', 'class', 'continue', 'def', 'del', 'elif', 'else', 'except', 'finally', 'for', 'from', 'global', 'if', 'import', 'in', 'is', 'lambda', 'nonlocal', 'not', 'or', 'pass', 'raise', 'return', 'try', 'while', 'with', 'yield']\n"
     ]
    }
   ],
   "source": [
    "import keyword\n",
    "print(keyword.kwlist)"
   ]
  },
  {
   "cell_type": "code",
   "execution_count": null,
   "metadata": {
    "id": "ox9_aO-XL-v4",
    "outputId": "6fce4d7b-fba0-4696-db40-79ae47c34c10"
   },
   "outputs": [],
   "source": [
    "len(keyword.kwlist)"
   ]
  },
  {
   "cell_type": "markdown",
   "metadata": {
    "id": "yXlBgcvKL-wE"
   },
   "source": [
    "# Declarações\n",
    "\n",
    "Uma declaração é uma parte do código que o Python interpreta e pode executar.\n",
    "\n",
    "Temos visto dois tipos de declarações: *print* como uma declaração ou uma\n",
    "atribuição."
   ]
  },
  {
   "cell_type": "code",
   "execution_count": 3,
   "metadata": {
    "id": "GBoNbW8hL-wE",
    "outputId": "bc9ef2e4-f57d-4fe4-82e9-883eacb2d820"
   },
   "outputs": [
    {
     "name": "stdout",
     "output_type": "stream",
     "text": [
      "Olá\n"
     ]
    }
   ],
   "source": [
    "print(\"Olá\")"
   ]
  },
  {
   "cell_type": "code",
   "execution_count": 5,
   "metadata": {
    "id": "ZAWCDZXLL-wF",
    "outputId": "a011968a-3062-4fb4-ac07-eda366c67f1c"
   },
   "outputs": [
    {
     "data": {
      "text/plain": [
       "'Quenia'"
      ]
     },
     "execution_count": 5,
     "metadata": {},
     "output_type": "execute_result"
    }
   ],
   "source": [
    "nome = \"Quenia\"\n",
    "nome\n"
   ]
  },
  {
   "cell_type": "markdown",
   "metadata": {
    "id": "_hI2vNK3L-wF"
   },
   "source": [
    "A declaração por atribuição não produz saída."
   ]
  },
  {
   "cell_type": "code",
   "execution_count": 7,
   "metadata": {
    "id": "A8DaPws9L-wF",
    "outputId": "a040033b-bb86-41f1-a22e-ca742877c0e6"
   },
   "outputs": [
    {
     "data": {
      "text/plain": [
       "'Deborah Foroni'"
      ]
     },
     "execution_count": 7,
     "metadata": {},
     "output_type": "execute_result"
    }
   ],
   "source": [
    "nome = 'Deborah Foroni'\n",
    "nome"
   ]
  },
  {
   "cell_type": "code",
   "execution_count": 2,
   "metadata": {
    "id": "eF1Bhnj1L-wF",
    "outputId": "34a4dd77-9e87-4cf6-d197-ea55374069b5"
   },
   "outputs": [
    {
     "data": {
      "text/plain": [
       "'Deborah Foroni'"
      ]
     },
     "execution_count": 2,
     "metadata": {},
     "output_type": "execute_result"
    }
   ],
   "source": [
    "nome"
   ]
  },
  {
   "cell_type": "code",
   "execution_count": 8,
   "metadata": {
    "id": "cqcnNnlpL-wF",
    "outputId": "32bc9e71-fdf8-4412-df64-980b47b302c8"
   },
   "outputs": [
    {
     "data": {
      "text/plain": [
       "4689345008"
      ]
     },
     "execution_count": 8,
     "metadata": {},
     "output_type": "execute_result"
    }
   ],
   "source": [
    "id(nome)"
   ]
  },
  {
   "cell_type": "markdown",
   "metadata": {
    "id": "3eT7jQg2L-wG"
   },
   "source": [
    "Como usar aspas para citação:"
   ]
  },
  {
   "cell_type": "code",
   "execution_count": 9,
   "metadata": {
    "id": "YkR4nkHEL-wG",
    "outputId": "70320c7b-6c10-460a-f462-76b7f711bda5"
   },
   "outputs": [
    {
     "data": {
      "text/plain": [
       "'Olá, \"Mundo!\"'"
      ]
     },
     "execution_count": 9,
     "metadata": {},
     "output_type": "execute_result"
    }
   ],
   "source": [
    "frase = 'Olá, \"Mundo!\"'\n",
    "frase"
   ]
  },
  {
   "cell_type": "code",
   "execution_count": 10,
   "metadata": {
    "id": "VQoupJimL-wG",
    "outputId": "7cab0581-4e50-4ae3-f795-d10b1b347143"
   },
   "outputs": [
    {
     "data": {
      "text/plain": [
       "\"Olá, 'Mundo!'\""
      ]
     },
     "execution_count": 10,
     "metadata": {},
     "output_type": "execute_result"
    }
   ],
   "source": [
    "frase = \"Olá, 'Mundo!'\"\n",
    "frase"
   ]
  },
  {
   "cell_type": "markdown",
   "metadata": {
    "id": "m8QDYKT9L-wG"
   },
   "source": [
    "## Atribuição Múltipla\n",
    "\n",
    "O Python permite definir múltiplas variáveis ao mesmo tempo e inclusive\n",
    "trocar os valores entre elas."
   ]
  },
  {
   "cell_type": "code",
   "execution_count": 11,
   "metadata": {
    "id": "5aa94v6WL-wG",
    "outputId": "587ddd93-e272-47cb-a318-55e133010499"
   },
   "outputs": [
    {
     "data": {
      "text/plain": [
       "(10, 20, 30)"
      ]
     },
     "execution_count": 11,
     "metadata": {},
     "output_type": "execute_result"
    }
   ],
   "source": [
    "idade, idade2, idade3 = 10, 20, 30\n",
    "idade, idade2, idade3"
   ]
  },
  {
   "cell_type": "markdown",
   "metadata": {
    "id": "V2KfcTPQL-wG"
   },
   "source": [
    "## Escolhendo nomes de variáveis mnemônicos\n",
    "\n",
    "Podemos nomear as nossas variáveis de diferentes formas, desde que sigamos as regras de nomeação e não usamos as palavras reservadas do Python.\n",
    "\n",
    "No início pode ser uma tarefa dificil escolher os nomes das variáveis para os programas, mas aos poucos vamos nos desenvolvendo.\n",
    "\n",
    "Abaixo vamos ver 3 exemplos do mesmo programa, mas com nomes diferentes:"
   ]
  },
  {
   "cell_type": "code",
   "execution_count": 13,
   "metadata": {
    "id": "yq88kTJlL-wH",
    "outputId": "4257656c-2980-43a7-84b2-7111ac9f32d3"
   },
   "outputs": [
    {
     "data": {
      "text/plain": [
       "36"
      ]
     },
     "execution_count": 13,
     "metadata": {},
     "output_type": "execute_result"
    }
   ],
   "source": [
    "a = 2025\n",
    "b = 1989\n",
    "c = a - b\n",
    "c"
   ]
  },
  {
   "cell_type": "code",
   "execution_count": 14,
   "metadata": {
    "id": "Cb5pqURaL-wH",
    "outputId": "86ab8c20-2f1b-4ec5-c448-67adb889b43d"
   },
   "outputs": [
    {
     "data": {
      "text/plain": [
       "36"
      ]
     },
     "execution_count": 14,
     "metadata": {},
     "output_type": "execute_result"
    }
   ],
   "source": [
    "ano_atual = 2025\n",
    "ano_nascimento = 1989\n",
    "idade = ano_atual - ano_nascimento\n",
    "idade"
   ]
  },
  {
   "cell_type": "code",
   "execution_count": 15,
   "metadata": {
    "id": "uYlClvWOL-wH",
    "outputId": "565b7365-8c20-44a7-bb08-8d4beb32f815"
   },
   "outputs": [
    {
     "data": {
      "text/plain": [
       "36"
      ]
     },
     "execution_count": 15,
     "metadata": {},
     "output_type": "execute_result"
    }
   ],
   "source": [
    "t9t6z9a = 2025\n",
    "t0t3z0a = 1989\n",
    "ttttttt = t9t6z9a - t0t3z0a\n",
    "ttttttt"
   ]
  },
  {
   "cell_type": "markdown",
   "metadata": {
    "id": "xzaEU1KdL-wH"
   },
   "source": [
    "\n",
    "Chamamos essas sábias escolhas de nomes *“nomes de variáveis mnemônicos”*.\n",
    "\n",
    "A palavra **mnemônico** significa “auxiliar de memória”. Escolhemos nomes de variáveis **mnemônicos** para nos ajudar a lembrar o porquê criamos inicialmente essa variável."
   ]
  },
  {
   "cell_type": "markdown",
   "metadata": {
    "id": "fuEugrq9L-wI"
   },
   "source": [
    "## Tipos de variáveis\n",
    "O tipo de uma variável corresponde ao tipo do valor ao qual ela se refere.\n",
    "\n",
    "Uma variável possui tipos diferentes que as caracterizam.\n",
    "\n",
    "* *Numéricos*: armazenam números. São: inteiros (int), de ponto flutuante (float), decimal (decimal), fração (fraction) e complexos (complex)\n",
    "* *Literais*: Armazenam caracteres (qualquer um do teclado) ou sequências de caracteres. São strings (string)\n",
    "* *Lógicos*: Armazenam verdadeiro ou falso. São: booleanos (bool)"
   ]
  },
  {
   "cell_type": "markdown",
   "metadata": {
    "id": "i1p2yfdZL-wI"
   },
   "source": [
    "## Numéricos:"
   ]
  },
  {
   "cell_type": "code",
   "execution_count": 16,
   "metadata": {
    "id": "r0J2naHpL-wI",
    "outputId": "28d49efd-cddb-4566-c231-4318df348679"
   },
   "outputs": [
    {
     "data": {
      "text/plain": [
       "1"
      ]
     },
     "execution_count": 16,
     "metadata": {},
     "output_type": "execute_result"
    }
   ],
   "source": [
    "inteiro = 1\n",
    "inteiro"
   ]
  },
  {
   "cell_type": "code",
   "execution_count": 17,
   "metadata": {
    "id": "dVNsVCg_L-wI",
    "outputId": "a0441b61-a87a-419c-e772-4202e698d770"
   },
   "outputs": [
    {
     "data": {
      "text/plain": [
       "1.2"
      ]
     },
     "execution_count": 17,
     "metadata": {},
     "output_type": "execute_result"
    }
   ],
   "source": [
    "pontoFlutuante = 1.2\n",
    "pontoFlutuante"
   ]
  },
  {
   "cell_type": "code",
   "execution_count": 18,
   "metadata": {
    "id": "5qg4TKBNL-wI",
    "outputId": "c967eeca-a56e-4db9-e448-009d472f4f1f"
   },
   "outputs": [
    {
     "data": {
      "text/plain": [
       "float"
      ]
     },
     "execution_count": 18,
     "metadata": {},
     "output_type": "execute_result"
    }
   ],
   "source": [
    "type(pontoFlutuante)"
   ]
  },
  {
   "cell_type": "code",
   "execution_count": 19,
   "metadata": {
    "id": "3RyGwELPL-wJ",
    "outputId": "915d4a6c-f5cf-45ff-8f68-76dfd4595a7f"
   },
   "outputs": [
    {
     "data": {
      "text/plain": [
       "(2+3j)"
      ]
     },
     "execution_count": 19,
     "metadata": {},
     "output_type": "execute_result"
    }
   ],
   "source": [
    "2+3j"
   ]
  },
  {
   "cell_type": "code",
   "execution_count": 20,
   "metadata": {
    "id": "pVr8sx3yL-wJ",
    "outputId": "bee8f678-ffc1-4078-de01-11cd9868d410"
   },
   "outputs": [
    {
     "data": {
      "text/plain": [
       "complex"
      ]
     },
     "execution_count": 20,
     "metadata": {},
     "output_type": "execute_result"
    }
   ],
   "source": [
    "type(2+3j)"
   ]
  },
  {
   "cell_type": "markdown",
   "metadata": {
    "id": "nZ5jumLkL-wJ"
   },
   "source": [
    "# Lógicos"
   ]
  },
  {
   "cell_type": "code",
   "execution_count": 21,
   "metadata": {
    "id": "qQTQ4fcnL-wJ",
    "outputId": "c384eec3-298c-497e-dd9c-1ebb21d6f1e0"
   },
   "outputs": [
    {
     "data": {
      "text/plain": [
       "False"
      ]
     },
     "execution_count": 21,
     "metadata": {},
     "output_type": "execute_result"
    }
   ],
   "source": [
    "5 == 3"
   ]
  },
  {
   "cell_type": "code",
   "execution_count": 22,
   "metadata": {
    "id": "elJ_DBt8L-wJ",
    "outputId": "4d821ac8-e9a3-4d81-d937-9c2deb0f1a2c"
   },
   "outputs": [
    {
     "data": {
      "text/plain": [
       "True"
      ]
     },
     "execution_count": 22,
     "metadata": {},
     "output_type": "execute_result"
    }
   ],
   "source": [
    "5 != 3"
   ]
  },
  {
   "cell_type": "code",
   "execution_count": 23,
   "metadata": {
    "id": "gRDXpN1UL-wJ",
    "outputId": "50c0f120-ce4d-4bc2-cdab-7317ddd310b4"
   },
   "outputs": [
    {
     "data": {
      "text/plain": [
       "False"
      ]
     },
     "execution_count": 23,
     "metadata": {},
     "output_type": "execute_result"
    }
   ],
   "source": [
    "'Deborah' == 'Quenia'"
   ]
  },
  {
   "cell_type": "code",
   "execution_count": 26,
   "metadata": {},
   "outputs": [],
   "source": [
    "numero = 50"
   ]
  },
  {
   "cell_type": "code",
   "execution_count": 27,
   "metadata": {
    "id": "zoOLehrEL-wK",
    "outputId": "9377c2db-2a1b-48ff-bedb-b0ec18b0a8d5"
   },
   "outputs": [
    {
     "data": {
      "text/plain": [
       "False"
      ]
     },
     "execution_count": 27,
     "metadata": {},
     "output_type": "execute_result"
    }
   ],
   "source": [
    "numero == pontoFlutuante"
   ]
  },
  {
   "cell_type": "code",
   "execution_count": 28,
   "metadata": {
    "id": "MbN5_lbVL-wK",
    "outputId": "34ac4208-0cd8-4153-b96b-81c34eddf7dc"
   },
   "outputs": [
    {
     "data": {
      "text/plain": [
       "False"
      ]
     },
     "execution_count": 28,
     "metadata": {},
     "output_type": "execute_result"
    }
   ],
   "source": [
    "6 < 5"
   ]
  },
  {
   "cell_type": "code",
   "execution_count": 29,
   "metadata": {
    "id": "Yr4IZw61L-wK",
    "outputId": "8cc52aea-6be4-4873-86e9-4bce7fc28657"
   },
   "outputs": [
    {
     "data": {
      "text/plain": [
       "False"
      ]
     },
     "execution_count": 29,
     "metadata": {},
     "output_type": "execute_result"
    }
   ],
   "source": [
    "6 <= 5"
   ]
  },
  {
   "cell_type": "code",
   "execution_count": 30,
   "metadata": {
    "id": "A0WRq1SzL-wK",
    "outputId": "a04d982e-cc0c-44da-cff2-c4b14f931596"
   },
   "outputs": [
    {
     "data": {
      "text/plain": [
       "True"
      ]
     },
     "execution_count": 30,
     "metadata": {},
     "output_type": "execute_result"
    }
   ],
   "source": [
    "6 > 5"
   ]
  },
  {
   "cell_type": "code",
   "execution_count": 31,
   "metadata": {
    "id": "2rDfnnI_L-wK",
    "outputId": "8f398f09-c655-4eb5-a49b-7f14967dca7a"
   },
   "outputs": [
    {
     "data": {
      "text/plain": [
       "True"
      ]
     },
     "execution_count": 31,
     "metadata": {},
     "output_type": "execute_result"
    }
   ],
   "source": [
    "6 >= 5"
   ]
  },
  {
   "cell_type": "code",
   "execution_count": 32,
   "metadata": {
    "id": "8vxypWAsL-wL",
    "outputId": "2b00440b-b95c-4086-cde4-da4240f19ead"
   },
   "outputs": [
    {
     "data": {
      "text/plain": [
       "True"
      ]
     },
     "execution_count": 32,
     "metadata": {},
     "output_type": "execute_result"
    }
   ],
   "source": [
    "6 < 7 < 8"
   ]
  },
  {
   "cell_type": "code",
   "execution_count": 33,
   "metadata": {},
   "outputs": [
    {
     "data": {
      "text/plain": [
       "False"
      ]
     },
     "execution_count": 33,
     "metadata": {},
     "output_type": "execute_result"
    }
   ],
   "source": [
    "6 < 7 > 8"
   ]
  },
  {
   "cell_type": "code",
   "execution_count": 34,
   "metadata": {
    "id": "LtWQR8uBL-wL",
    "outputId": "44f3d1c9-6090-4a9f-a92e-66565e1323fe"
   },
   "outputs": [
    {
     "data": {
      "text/plain": [
       "False"
      ]
     },
     "execution_count": 34,
     "metadata": {},
     "output_type": "execute_result"
    }
   ],
   "source": [
    "not True"
   ]
  },
  {
   "cell_type": "code",
   "execution_count": 35,
   "metadata": {
    "id": "OoGXStf8L-wL",
    "outputId": "6a3f6b53-27ee-4957-8965-f44217ff2a94"
   },
   "outputs": [
    {
     "data": {
      "text/plain": [
       "True"
      ]
     },
     "execution_count": 35,
     "metadata": {},
     "output_type": "execute_result"
    }
   ],
   "source": [
    "not False"
   ]
  },
  {
   "cell_type": "code",
   "execution_count": 36,
   "metadata": {
    "id": "tsT9l302L-wL",
    "outputId": "8753c23a-7a68-425c-a6dd-b06f70517340"
   },
   "outputs": [
    {
     "data": {
      "text/plain": [
       "False"
      ]
     },
     "execution_count": 36,
     "metadata": {},
     "output_type": "execute_result"
    }
   ],
   "source": [
    "False"
   ]
  },
  {
   "cell_type": "code",
   "execution_count": 37,
   "metadata": {
    "id": "vLoVoquIL-wL",
    "outputId": "a1851d7d-a559-48ce-8e64-eb82c0f1e6ec"
   },
   "outputs": [
    {
     "data": {
      "text/plain": [
       "False"
      ]
     },
     "execution_count": 37,
     "metadata": {},
     "output_type": "execute_result"
    }
   ],
   "source": [
    "False and True"
   ]
  },
  {
   "cell_type": "code",
   "execution_count": 38,
   "metadata": {
    "id": "tcnGBy3fL-wM",
    "outputId": "8d3ed971-50b4-47f8-f660-482f05819cf2"
   },
   "outputs": [
    {
     "data": {
      "text/plain": [
       "True"
      ]
     },
     "execution_count": 38,
     "metadata": {},
     "output_type": "execute_result"
    }
   ],
   "source": [
    "True and True"
   ]
  },
  {
   "cell_type": "code",
   "execution_count": 39,
   "metadata": {
    "id": "KpwEIpoxL-wM",
    "outputId": "dc345fcc-5ef0-42b2-9388-e05048459c72"
   },
   "outputs": [
    {
     "data": {
      "text/plain": [
       "False"
      ]
     },
     "execution_count": 39,
     "metadata": {},
     "output_type": "execute_result"
    }
   ],
   "source": [
    "False and False"
   ]
  },
  {
   "cell_type": "code",
   "execution_count": 40,
   "metadata": {
    "id": "kfuvK1RaL-wM",
    "outputId": "fb9f78ff-90b6-49b3-e87e-a76b2cfd4e01"
   },
   "outputs": [
    {
     "data": {
      "text/plain": [
       "True"
      ]
     },
     "execution_count": 40,
     "metadata": {},
     "output_type": "execute_result"
    }
   ],
   "source": [
    "False or True"
   ]
  },
  {
   "cell_type": "markdown",
   "metadata": {
    "id": "v35M9yYML-wM"
   },
   "source": [
    "Cada objeto Python é avaliado como *True* ou *False*.\n",
    "\n",
    "A maioria dos objetos é *True*, mas há alguns que avaliam como *False*, incluindo *None*, *False*, *0* ou tipos de dados vazios, por exemplo, uma string vazia."
   ]
  },
  {
   "cell_type": "code",
   "execution_count": 41,
   "metadata": {
    "id": "WPhI92gGL-wM",
    "outputId": "c0c99d16-f972-4b51-d308-c53785b06165"
   },
   "outputs": [
    {
     "data": {
      "text/plain": [
       "False"
      ]
     },
     "execution_count": 41,
     "metadata": {},
     "output_type": "execute_result"
    }
   ],
   "source": [
    "None == True"
   ]
  },
  {
   "cell_type": "code",
   "execution_count": 42,
   "metadata": {
    "id": "2X2fVxq4L-wM",
    "outputId": "304c915e-1b10-40d8-9c16-eaa9ba8c2bc4"
   },
   "outputs": [
    {
     "data": {
      "text/plain": [
       "False"
      ]
     },
     "execution_count": 42,
     "metadata": {},
     "output_type": "execute_result"
    }
   ],
   "source": [
    "None == False"
   ]
  },
  {
   "cell_type": "code",
   "execution_count": 43,
   "metadata": {
    "id": "Wor_VftqL-wN",
    "outputId": "9c955e44-88f6-4583-edfa-8a0ddab4b446"
   },
   "outputs": [
    {
     "data": {
      "text/plain": [
       "False"
      ]
     },
     "execution_count": 43,
     "metadata": {},
     "output_type": "execute_result"
    }
   ],
   "source": [
    "0 == True"
   ]
  },
  {
   "cell_type": "code",
   "execution_count": 44,
   "metadata": {
    "id": "xMT-KK1tL-wN",
    "outputId": "7038fd9f-215b-4794-bd5f-ff040bb77fd6"
   },
   "outputs": [
    {
     "data": {
      "text/plain": [
       "True"
      ]
     },
     "execution_count": 44,
     "metadata": {},
     "output_type": "execute_result"
    }
   ],
   "source": [
    "False == False"
   ]
  },
  {
   "cell_type": "code",
   "execution_count": 45,
   "metadata": {
    "id": "B508L27LL-wN",
    "outputId": "63d816ce-eddf-48f0-f372-85116962253d"
   },
   "outputs": [
    {
     "data": {
      "text/plain": [
       "True"
      ]
     },
     "execution_count": 45,
     "metadata": {},
     "output_type": "execute_result"
    }
   ],
   "source": [
    "bool('Olá')"
   ]
  },
  {
   "cell_type": "code",
   "execution_count": 46,
   "metadata": {
    "id": "1IMxLo68L-wN",
    "outputId": "3285816a-962a-4ffc-c558-82fb4948f2a9"
   },
   "outputs": [
    {
     "data": {
      "text/plain": [
       "False"
      ]
     },
     "execution_count": 46,
     "metadata": {},
     "output_type": "execute_result"
    }
   ],
   "source": [
    "bool('')"
   ]
  },
  {
   "cell_type": "markdown",
   "metadata": {
    "id": "2D1NEnUsL-wN"
   },
   "source": [
    "### Exemplos:"
   ]
  },
  {
   "cell_type": "code",
   "execution_count": 47,
   "metadata": {
    "id": "lCoMePGGL-wN",
    "outputId": "6369c30a-05dd-4756-e803-3f1f08460512"
   },
   "outputs": [
    {
     "name": "stdout",
     "output_type": "stream",
     "text": [
      "Not Ok\n"
     ]
    }
   ],
   "source": [
    "# Expressão 6 < 3\n",
    "if 6 < 3:\n",
    "    print('Ok')\n",
    "else:\n",
    "    print('Not Ok')"
   ]
  },
  {
   "cell_type": "code",
   "execution_count": 48,
   "metadata": {
    "id": "zPNci6MaL-wO",
    "outputId": "2090f7e9-6d50-4db2-c707-6378177c1473"
   },
   "outputs": [
    {
     "name": "stdout",
     "output_type": "stream",
     "text": [
      "Ok\n"
     ]
    }
   ],
   "source": [
    "# Expressão 6 > 3\n",
    "if 6 > 3:\n",
    "    print('Ok')\n",
    "else:\n",
    "    print('Not Ok')"
   ]
  },
  {
   "cell_type": "code",
   "execution_count": 49,
   "metadata": {
    "id": "TXSN2YdIL-wO",
    "outputId": "558e658f-c708-480b-fb45-3b1b1e08e1c4"
   },
   "outputs": [
    {
     "name": "stdout",
     "output_type": "stream",
     "text": [
      "4\n"
     ]
    }
   ],
   "source": [
    "a = 4\n",
    "if a:\n",
    "    print(a)"
   ]
  },
  {
   "cell_type": "code",
   "execution_count": 50,
   "metadata": {
    "id": "Fgn454H0L-wO"
   },
   "outputs": [],
   "source": [
    "a = 0\n",
    "if a:\n",
    "    print(a)"
   ]
  },
  {
   "cell_type": "code",
   "execution_count": 51,
   "metadata": {
    "id": "AiH9Q6wvL-wO"
   },
   "outputs": [],
   "source": [
    "a = None\n",
    "if a:\n",
    "    print(a)"
   ]
  },
  {
   "cell_type": "markdown",
   "metadata": {
    "id": "8JYcPcauL-wO"
   },
   "source": [
    "### Nota: Falsy e Truthy em Python"
   ]
  },
  {
   "cell_type": "markdown",
   "metadata": {
    "id": "ET83wPe4L-wP"
   },
   "source": [
    "Em Python podemos mudar o tipo de uma variável ao longo do programa, por isso chamamos Python\n",
    "de uma linguagem dinamicamente tipada.\n",
    "\n",
    "Podemos transformar um tipo de variável em outro usando os comandos:\n",
    "*int( ) ou float( ) ou str( )*"
   ]
  },
  {
   "cell_type": "markdown",
   "metadata": {
    "id": "aNlQ9XViL-wP"
   },
   "source": [
    "# String"
   ]
  },
  {
   "cell_type": "code",
   "execution_count": 52,
   "metadata": {
    "id": "ccTMO0Y9L-wP",
    "outputId": "c129498b-5aa6-4246-e7b8-c61c6f12d7db"
   },
   "outputs": [
    {
     "data": {
      "text/plain": [
       "'Deborah'"
      ]
     },
     "execution_count": 52,
     "metadata": {},
     "output_type": "execute_result"
    }
   ],
   "source": [
    "nome = 'Deborah'\n",
    "nome"
   ]
  },
  {
   "cell_type": "code",
   "execution_count": 53,
   "metadata": {
    "id": "o-4qqQLYL-wP",
    "outputId": "044b253f-44d7-4ad1-bf51-739ee2dfc48c"
   },
   "outputs": [
    {
     "data": {
      "text/plain": [
       "'Foroni'"
      ]
     },
     "execution_count": 53,
     "metadata": {},
     "output_type": "execute_result"
    }
   ],
   "source": [
    "sobrenome = 'Foroni'\n",
    "sobrenome"
   ]
  },
  {
   "cell_type": "code",
   "execution_count": 54,
   "metadata": {
    "id": "eoAJCwMhL-wP",
    "outputId": "7bad559b-1c01-40a5-88bf-25779cdb9686"
   },
   "outputs": [
    {
     "data": {
      "text/plain": [
       "'Deborah Foroni'"
      ]
     },
     "execution_count": 54,
     "metadata": {},
     "output_type": "execute_result"
    }
   ],
   "source": [
    "nome_completo = nome + \" \" + sobrenome\n",
    "nome_completo"
   ]
  },
  {
   "cell_type": "markdown",
   "metadata": {
    "id": "qBsCQRRLL-wP"
   },
   "source": [
    "Misturando *string* com variável usando *f-strings* (*formatted string literal*)."
   ]
  },
  {
   "cell_type": "code",
   "execution_count": 57,
   "metadata": {
    "id": "ob5lIZOxL-wQ",
    "outputId": "bf43b51d-94d4-439e-9f8e-5631138c3026"
   },
   "outputs": [
    {
     "data": {
      "text/plain": [
       "'Meu primeiro nome é Rafaela e meu sobrenome é Abrahao.'"
      ]
     },
     "execution_count": 57,
     "metadata": {},
     "output_type": "execute_result"
    }
   ],
   "source": [
    "nome, sobrenome = 'Rafaela', 'Abrahao'\n",
    "f\"Meu primeiro nome é {nome} e meu sobrenome é {sobrenome}.\""
   ]
  },
  {
   "cell_type": "markdown",
   "metadata": {
    "id": "QvqBFAvQL-wQ"
   },
   "source": [
    "Métodos de *string*"
   ]
  },
  {
   "cell_type": "code",
   "execution_count": 58,
   "metadata": {
    "id": "Y_rxzOJ-L-wQ",
    "outputId": "567c35d7-5e31-494c-d4eb-7247eea118a3"
   },
   "outputs": [
    {
     "data": {
      "text/plain": [
       "'python python python'"
      ]
     },
     "execution_count": 58,
     "metadata": {},
     "output_type": "execute_result"
    }
   ],
   "source": [
    "\"python Python PYTHON\".lower()"
   ]
  },
  {
   "cell_type": "code",
   "execution_count": 59,
   "metadata": {
    "id": "OLl8iu-jL-wQ",
    "outputId": "ed34c908-fe17-4cc9-c1a4-cba6497e17b5"
   },
   "outputs": [
    {
     "data": {
      "text/plain": [
       "'PYTHON PYTHON PYTHON'"
      ]
     },
     "execution_count": 59,
     "metadata": {},
     "output_type": "execute_result"
    }
   ],
   "source": [
    "\"python Python PYTHON\".upper()"
   ]
  },
  {
   "cell_type": "code",
   "execution_count": 60,
   "metadata": {
    "id": "O3pYhai-L-wQ",
    "outputId": "f623f4a2-8fe4-4449-8133-926c87d9e34b"
   },
   "outputs": [
    {
     "data": {
      "text/plain": [
       "'Python Python Python'"
      ]
     },
     "execution_count": 60,
     "metadata": {},
     "output_type": "execute_result"
    }
   ],
   "source": [
    "\"python Python PYTHON\".title()"
   ]
  },
  {
   "cell_type": "code",
   "execution_count": 61,
   "metadata": {
    "id": "_V6RR66PL-wQ",
    "outputId": "35982c46-17fb-46b4-d065-4e9a9407f19d"
   },
   "outputs": [
    {
     "name": "stdout",
     "output_type": "stream",
     "text": [
      "Help on module string:\n",
      "\n",
      "NAME\n",
      "    string - A collection of string constants.\n",
      "\n",
      "MODULE REFERENCE\n",
      "    https://docs.python.org/3.12/library/string.html\n",
      "\n",
      "    The following documentation is automatically generated from the Python\n",
      "    source files.  It may be incomplete, incorrect or include features that\n",
      "    are considered implementation detail and may vary between Python\n",
      "    implementations.  When in doubt, consult the module reference at the\n",
      "    location listed above.\n",
      "\n",
      "DESCRIPTION\n",
      "    Public module variables:\n",
      "\n",
      "    whitespace -- a string containing all ASCII whitespace\n",
      "    ascii_lowercase -- a string containing all ASCII lowercase letters\n",
      "    ascii_uppercase -- a string containing all ASCII uppercase letters\n",
      "    ascii_letters -- a string containing all ASCII letters\n",
      "    digits -- a string containing all ASCII decimal digits\n",
      "    hexdigits -- a string containing all ASCII hexadecimal digits\n",
      "    octdigits -- a string containing all ASCII octal digits\n",
      "    punctuation -- a string containing all ASCII punctuation characters\n",
      "    printable -- a string containing all ASCII characters considered printable\n",
      "\n",
      "CLASSES\n",
      "    builtins.object\n",
      "        Formatter\n",
      "        Template\n",
      "\n",
      "    class Formatter(builtins.object)\n",
      "     |  Methods defined here:\n",
      "     |\n",
      "     |  check_unused_args(self, used_args, args, kwargs)\n",
      "     |\n",
      "     |  convert_field(self, value, conversion)\n",
      "     |\n",
      "     |  format(self, format_string, /, *args, **kwargs)\n",
      "     |\n",
      "     |  format_field(self, value, format_spec)\n",
      "     |\n",
      "     |  get_field(self, field_name, args, kwargs)\n",
      "     |      # given a field_name, find the object it references.\n",
      "     |      #  field_name:   the field being looked up, e.g. \"0.name\"\n",
      "     |      #                 or \"lookup[3]\"\n",
      "     |      #  used_args:    a set of which args have been used\n",
      "     |      #  args, kwargs: as passed in to vformat\n",
      "     |\n",
      "     |  get_value(self, key, args, kwargs)\n",
      "     |\n",
      "     |  parse(self, format_string)\n",
      "     |      # returns an iterable that contains tuples of the form:\n",
      "     |      # (literal_text, field_name, format_spec, conversion)\n",
      "     |      # literal_text can be zero length\n",
      "     |      # field_name can be None, in which case there's no\n",
      "     |      #  object to format and output\n",
      "     |      # if field_name is not None, it is looked up, formatted\n",
      "     |      #  with format_spec and conversion and then used\n",
      "     |\n",
      "     |  vformat(self, format_string, args, kwargs)\n",
      "     |\n",
      "     |  ----------------------------------------------------------------------\n",
      "     |  Data descriptors defined here:\n",
      "     |\n",
      "     |  __dict__\n",
      "     |      dictionary for instance variables\n",
      "     |\n",
      "     |  __weakref__\n",
      "     |      list of weak references to the object\n",
      "\n",
      "    class Template(builtins.object)\n",
      "     |  Template(template)\n",
      "     |\n",
      "     |  A string class for supporting $-substitutions.\n",
      "     |\n",
      "     |  Methods defined here:\n",
      "     |\n",
      "     |  __init__(self, template)\n",
      "     |      Initialize self.  See help(type(self)) for accurate signature.\n",
      "     |\n",
      "     |  get_identifiers(self)\n",
      "     |\n",
      "     |  is_valid(self)\n",
      "     |\n",
      "     |  safe_substitute(self, mapping={}, /, **kws)\n",
      "     |\n",
      "     |  substitute(self, mapping={}, /, **kws)\n",
      "     |\n",
      "     |  ----------------------------------------------------------------------\n",
      "     |  Class methods defined here:\n",
      "     |\n",
      "     |  __init_subclass__() from builtins.type\n",
      "     |      This method is called when a class is subclassed.\n",
      "     |\n",
      "     |      The default implementation does nothing. It may be\n",
      "     |      overridden to extend subclasses.\n",
      "     |\n",
      "     |  ----------------------------------------------------------------------\n",
      "     |  Data descriptors defined here:\n",
      "     |\n",
      "     |  __dict__\n",
      "     |      dictionary for instance variables\n",
      "     |\n",
      "     |  __weakref__\n",
      "     |      list of weak references to the object\n",
      "     |\n",
      "     |  ----------------------------------------------------------------------\n",
      "     |  Data and other attributes defined here:\n",
      "     |\n",
      "     |  braceidpattern = None\n",
      "     |\n",
      "     |  delimiter = '$'\n",
      "     |\n",
      "     |  flags = re.IGNORECASE\n",
      "     |\n",
      "     |  idpattern = '(?a:[_a-z][_a-z0-9]*)'\n",
      "     |\n",
      "     |  pattern = re.compile('\\n            \\\\$(?:\\n              ...identifie...\n",
      "\n",
      "FUNCTIONS\n",
      "    capwords(s, sep=None)\n",
      "        capwords(s [,sep]) -> string\n",
      "\n",
      "        Split the argument into words using split, capitalize each\n",
      "        word using capitalize, and join the capitalized words using\n",
      "        join.  If the optional second argument sep is absent or None,\n",
      "        runs of whitespace characters are replaced by a single space\n",
      "        and leading and trailing whitespace are removed, otherwise\n",
      "        sep is used to split and join the words.\n",
      "\n",
      "DATA\n",
      "    __all__ = ['ascii_letters', 'ascii_lowercase', 'ascii_uppercase', 'cap...\n",
      "    ascii_letters = 'abcdefghijklmnopqrstuvwxyzABCDEFGHIJKLMNOPQRSTUVWXYZ'\n",
      "    ascii_lowercase = 'abcdefghijklmnopqrstuvwxyz'\n",
      "    ascii_uppercase = 'ABCDEFGHIJKLMNOPQRSTUVWXYZ'\n",
      "    digits = '0123456789'\n",
      "    hexdigits = '0123456789abcdefABCDEF'\n",
      "    octdigits = '01234567'\n",
      "    printable = '0123456789abcdefghijklmnopqrstuvwxyzABCDEFGHIJKLMNOPQRSTU...\n",
      "    punctuation = '!\"#$%&\\'()*+,-./:;<=>?@[\\\\]^_`{|}~'\n",
      "    whitespace = ' \\t\\n\\r\\x0b\\x0c'\n",
      "\n",
      "FILE\n",
      "    /Users/macbookpro/.pyenv/versions/3.12.1/lib/python3.12/string.py\n",
      "\n",
      "\n"
     ]
    }
   ],
   "source": [
    "help('string')"
   ]
  },
  {
   "cell_type": "markdown",
   "metadata": {
    "id": "d2JGGrIlL-wR"
   },
   "source": [
    "# Verificando os tipos de dados"
   ]
  },
  {
   "cell_type": "code",
   "execution_count": 62,
   "metadata": {
    "id": "UgdVHTEZL-wR",
    "outputId": "078acb13-6706-4802-dc12-9ce6e98b420f"
   },
   "outputs": [
    {
     "data": {
      "text/plain": [
       "2"
      ]
     },
     "execution_count": 62,
     "metadata": {},
     "output_type": "execute_result"
    }
   ],
   "source": [
    "num = 2\n",
    "num"
   ]
  },
  {
   "cell_type": "code",
   "execution_count": 65,
   "metadata": {},
   "outputs": [
    {
     "data": {
      "text/plain": [
       "float"
      ]
     },
     "execution_count": 65,
     "metadata": {},
     "output_type": "execute_result"
    }
   ],
   "source": [
    "num = 2.1\n",
    "type(num)"
   ]
  },
  {
   "cell_type": "code",
   "execution_count": 66,
   "metadata": {},
   "outputs": [
    {
     "data": {
      "text/plain": [
       "int"
      ]
     },
     "execution_count": 66,
     "metadata": {},
     "output_type": "execute_result"
    }
   ],
   "source": [
    "inteiro = int(num)\n",
    "type(inteiro)"
   ]
  },
  {
   "cell_type": "code",
   "execution_count": 63,
   "metadata": {
    "id": "iaNiaTtCL-wR",
    "outputId": "96f80d80-5469-460e-b52b-e87eb38fe898"
   },
   "outputs": [
    {
     "data": {
      "text/plain": [
       "int"
      ]
     },
     "execution_count": 63,
     "metadata": {},
     "output_type": "execute_result"
    }
   ],
   "source": [
    "type(num)"
   ]
  },
  {
   "cell_type": "code",
   "execution_count": 64,
   "metadata": {
    "id": "TbOuPfb5L-wR",
    "outputId": "bcf03d22-959a-496f-f94a-8ef2b8dafdcc"
   },
   "outputs": [
    {
     "data": {
      "text/plain": [
       "2.0"
      ]
     },
     "execution_count": 64,
     "metadata": {},
     "output_type": "execute_result"
    }
   ],
   "source": [
    "numfloat = float(num)\n",
    "numfloat"
   ]
  },
  {
   "cell_type": "code",
   "execution_count": null,
   "metadata": {
    "id": "igOktnWKL-wR",
    "outputId": "9ab673bf-3669-467c-f529-f7e89afa614f"
   },
   "outputs": [],
   "source": [
    "type(numfloat)"
   ]
  },
  {
   "cell_type": "code",
   "execution_count": null,
   "metadata": {
    "id": "tjGOdb00L-wR",
    "outputId": "5df7cd60-9925-4afa-9b28-8d98e637d443"
   },
   "outputs": [],
   "source": [
    "numInt = int(num)\n",
    "numInt"
   ]
  },
  {
   "cell_type": "code",
   "execution_count": null,
   "metadata": {
    "id": "EYnJHPmRL-wS",
    "outputId": "fc67acc9-ceb6-4dc5-a222-171e377bb928"
   },
   "outputs": [],
   "source": [
    "type(numInt)"
   ]
  },
  {
   "cell_type": "code",
   "execution_count": 67,
   "metadata": {
    "id": "FgQbyg7WL-wS",
    "outputId": "b504a7ce-1685-4a7b-fe3d-66487f16c563"
   },
   "outputs": [
    {
     "data": {
      "text/plain": [
       "'2.1'"
      ]
     },
     "execution_count": 67,
     "metadata": {},
     "output_type": "execute_result"
    }
   ],
   "source": [
    "string = str(num)\n",
    "string"
   ]
  },
  {
   "cell_type": "code",
   "execution_count": null,
   "metadata": {
    "id": "-_Dr3JIRL-wS",
    "outputId": "e32ee051-2d33-499b-b887-b7070369b6ba"
   },
   "outputs": [],
   "source": [
    "type(string)"
   ]
  },
  {
   "cell_type": "markdown",
   "metadata": {
    "id": "c8Z_bsd-L-wS"
   },
   "source": [
    "## Requisitando valores ao usuário\n",
    "\n",
    "Em alguns casos, nós podemos preferir que o valor para a variável seja inserido pelo usuário."
   ]
  },
  {
   "cell_type": "code",
   "execution_count": 68,
   "metadata": {
    "id": "s76H_gYAL-wS",
    "outputId": "0866d47a-7262-4b0a-bd93-54db4aed856c"
   },
   "outputs": [],
   "source": [
    "inp = input()"
   ]
  },
  {
   "cell_type": "code",
   "execution_count": 69,
   "metadata": {
    "id": "x1-4WOnPL-wT",
    "outputId": "87de278f-0650-410d-a6cd-a65e082098f9"
   },
   "outputs": [
    {
     "name": "stdout",
     "output_type": "stream",
     "text": [
      "50\n"
     ]
    }
   ],
   "source": [
    "print(inp)"
   ]
  },
  {
   "cell_type": "markdown",
   "metadata": {
    "id": "QIMFyGfEL-wT"
   },
   "source": [
    "As vezes precisamos informar o usuário o que ele precisa inserir na resposta, por isso é uma boa ideia mostrar uma mensagem dizendo a ele o que digitar."
   ]
  },
  {
   "cell_type": "code",
   "execution_count": 72,
   "metadata": {
    "id": "XJ1GbxCkL-wT",
    "outputId": "9cc397c2-e5c8-4e7d-ed84-f450ed969e79"
   },
   "outputs": [],
   "source": [
    "cidade = input('Qual a cidade que você nasceu?')"
   ]
  },
  {
   "cell_type": "code",
   "execution_count": 73,
   "metadata": {
    "id": "sJ0f3qsVL-wT",
    "outputId": "db93982a-a80b-4812-9481-1131591aaa93"
   },
   "outputs": [
    {
     "data": {
      "text/plain": [
       "'sao goncalo'"
      ]
     },
     "execution_count": 73,
     "metadata": {},
     "output_type": "execute_result"
    }
   ],
   "source": [
    "cidade"
   ]
  },
  {
   "cell_type": "markdown",
   "metadata": {
    "id": "D3s-8_atL-wT"
   },
   "source": [
    "A sequência **\\n** no fim da *string* representa *newline* (nova linha), que é um caractere especial que causa a quebra de linha."
   ]
  },
  {
   "cell_type": "code",
   "execution_count": 74,
   "metadata": {
    "id": "Gx2228JyL-wT",
    "outputId": "43f3f37c-d004-4bd0-c98d-fdb6c1e8560d"
   },
   "outputs": [],
   "source": [
    "cidade2 = input('Qual a cidade que você nasceu?\\n')"
   ]
  },
  {
   "cell_type": "code",
   "execution_count": 75,
   "metadata": {
    "id": "KdC_QmPoL-wU",
    "outputId": "5ea0448f-cd2f-4750-93f2-a90dc4d072bf"
   },
   "outputs": [],
   "source": [
    "tempo = input('Qual ano você se formou na Universidade?\\n')"
   ]
  },
  {
   "cell_type": "code",
   "execution_count": 76,
   "metadata": {
    "id": "pbnly6GDL-wU",
    "outputId": "cc84009f-76f6-45cd-c370-d7a984e60c9d"
   },
   "outputs": [
    {
     "data": {
      "text/plain": [
       "str"
      ]
     },
     "execution_count": 76,
     "metadata": {},
     "output_type": "execute_result"
    }
   ],
   "source": [
    "type(tempo)"
   ]
  },
  {
   "cell_type": "code",
   "execution_count": 77,
   "metadata": {
    "id": "rm_9hyLkL-wU",
    "outputId": "22111683-9279-4d98-d3e4-57c8345ac966"
   },
   "outputs": [
    {
     "data": {
      "text/plain": [
       "2023"
      ]
     },
     "execution_count": 77,
     "metadata": {},
     "output_type": "execute_result"
    }
   ],
   "source": [
    "int(tempo)"
   ]
  },
  {
   "cell_type": "markdown",
   "metadata": {
    "id": "vKz0-1uQL-wU"
   },
   "source": [
    "# Referências da aula:\n",
    "\n",
    "https://pt.wikipedia.org/wiki/Markdown\n",
    "\n",
    "https://wiki.python.org/moin/BeginnersGuide/Programmers\n",
    "\n",
    "https://www.py4e.com/book\n",
    "\n",
    "https://docs.python.org/pt-br/3/tutorial/\n",
    "    \n",
    "https://realpython.com/python-data-types/\n",
    "    \n",
    "https://www.freecodecamp.org/news/truthy-and-falsy-values-in-python/"
   ]
  }
 ],
 "metadata": {
  "colab": {
   "provenance": []
  },
  "kernelspec": {
   "display_name": "Python 3",
   "language": "python",
   "name": "python3"
  },
  "language_info": {
   "codemirror_mode": {
    "name": "ipython",
    "version": 3
   },
   "file_extension": ".py",
   "mimetype": "text/x-python",
   "name": "python",
   "nbconvert_exporter": "python",
   "pygments_lexer": "ipython3",
   "version": "3.13.0"
  }
 },
 "nbformat": 4,
 "nbformat_minor": 0
}
